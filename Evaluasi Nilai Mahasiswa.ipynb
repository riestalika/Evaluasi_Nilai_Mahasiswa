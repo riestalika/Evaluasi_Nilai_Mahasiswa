{
  "nbformat": 4,
  "nbformat_minor": 0,
  "metadata": {
    "colab": {
      "provenance": []
    },
    "kernelspec": {
      "name": "python3",
      "display_name": "Python 3"
    },
    "language_info": {
      "name": "python"
    }
  },
  "cells": [
    {
      "cell_type": "code",
      "source": [
        "nama = input(\"Masukkan nama mahasiswa: \" )\n",
        "nim = input(\"Masukkan NIM: \")\n",
        "nilai = int(input(\"Masukkan nilai ujian (0-100): \"))\n",
        "\n",
        "print(\"\\nNama: \", nama, \"(type: \",type(nama),\")\")\n",
        "print(\"NIM: \", nim, \"(type: \",type(nim),\")\")\n",
        "print(\"Nilai: \", nilai, \"(type: \",type(nilai),\")\")\n",
        "\n",
        "print(\"\\nHasil Evaluasi:\")\n",
        "print(\"Mahasiswa: \", nama, \"( NIM: \",nim,\")\")\n",
        "print(\"Nilai Ujian: \", nilai)\n",
        "\n",
        "if nilai >= 85 and nilai <= 100 :\n",
        "    kategori = \"A (Sangat Baik)\"\n",
        "elif nilai >= 75 and nilai <= 84 :\n",
        "    kategori = \"B (Baik)\"\n",
        "elif nilai >= 60 and nilai <= 74 :\n",
        "    kategori = \"C (Cukup)\"\n",
        "elif nilai >= 40 and nilai <= 59 :\n",
        "    kategori = \"D (Kurang)\"\n",
        "elif nilai <= 40 :\n",
        "    kategori = \"E (Sangat Kurang)\"\n",
        "else:\n",
        "  print(\"Nilai tidak valid\")\n",
        "\n",
        "print(\"Kategori Nilai:\", kategori)"
      ],
      "metadata": {
        "colab": {
          "base_uri": "https://localhost:8080/"
        },
        "id": "kio2uUKuTU4V",
        "outputId": "54527425-6f25-46d1-ea43-6034ed2c03a8"
      },
      "execution_count": null,
      "outputs": [
        {
          "output_type": "stream",
          "name": "stdout",
          "text": [
            "Masukkan nama mahasiswa: Elsa\n",
            "Masukkan NIM: 918267\n",
            "Masukkan nilai ujian (0-100): 35\n",
            "\n",
            "Nama:  Elsa (type:  <class 'str'> )\n",
            "NIM:  918267 (type:  <class 'str'> )\n",
            "Nilai:  35 (type:  <class 'int'> )\n",
            "\n",
            "Hasil Evaluasi:\n",
            "Mahasiswa:  Elsa ( NIM:  918267 )\n",
            "Nilai Ujian:  35\n",
            "Kategori Nilai: E (Sangat Kurang)\n"
          ]
        }
      ]
    },
    {
      "cell_type": "code",
      "source": [
        "nama = input(\"Masukkan nama mahasiswa: \" )\n",
        "nim = input(\"Masukkan NIM: \")\n",
        "nilai = int(input(\"Masukkan nilai ujian (0-100): \"))\n",
        "\n",
        "print(f\"\\nNama: {nama} (type: {type(nama)})\")\n",
        "print(f\"NIM: {nim} (type: {type(nim)})\")\n",
        "print(f\"Nilai: {nilai} (type: {type(nilai)})\")\n",
        "\n",
        "print(\"\\nHasil Evaluasi:\")\n",
        "print(f\"Mahasiswa: {nama} (NIM: {nim})\")\n",
        "print(\"Nilai Ujian: \", nilai,)\n",
        "\n",
        "if nilai >= 85 and nilai <= 100 :\n",
        "    kategori = \"A (Sangat Baik)\"\n",
        "elif nilai >= 75 and nilai <= 84 :\n",
        "    kategori = \"B (Baik)\"\n",
        "elif nilai >= 60 and nilai <= 74 :\n",
        "    kategori = \"C (Cukup)\"\n",
        "elif nilai >= 40 and nilai <= 59 :\n",
        "    kategori = \"D (Kurang)\"\n",
        "elif nilai <= 40 :\n",
        "    kategori = \"E (Sangat Kurang)\"\n",
        "else:\n",
        "  print(\"Nilai tidak valid\")\n",
        "\n",
        "print(\"Kategori Nilai:\", kategori)"
      ],
      "metadata": {
        "colab": {
          "base_uri": "https://localhost:8080/"
        },
        "id": "xYuJfggJbplt",
        "outputId": "9fa4ea10-32f7-499c-ed0a-571bf754863b"
      },
      "execution_count": null,
      "outputs": [
        {
          "output_type": "stream",
          "name": "stdout",
          "text": [
            "Masukkan nama mahasiswa: Elsa\n",
            "Masukkan NIM: 291003973\n",
            "Masukkan nilai ujian (0-100): 98\n",
            "\n",
            "Nama: Elsa (type: <class 'str'>)\n",
            "NIM: 291003973 (type: <class 'str'>)\n",
            "Nilai: 98 (type: <class 'int'>)\n",
            "\n",
            "Hasil Evaluasi:\n",
            "Mahasiswa: Elsa (NIM: 291003973)\n",
            "Nilai Ujian:  98\n",
            "Kategori Nilai: A (Sangat Baik)\n"
          ]
        }
      ]
    }
  ]
}